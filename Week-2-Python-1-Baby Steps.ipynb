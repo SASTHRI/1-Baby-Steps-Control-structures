{
 "cells": [
  {
   "cell_type": "code",
   "execution_count": 2,
   "id": "8187d8ad-3d31-4871-97eb-58821d2c0094",
   "metadata": {},
   "outputs": [
    {
     "name": "stdout",
     "output_type": "stream",
     "text": [
      "Welcome to assignment-1\n"
     ]
    }
   ],
   "source": [
    "print(\"Welcome to assignment-1\")"
   ]
  },
  {
   "cell_type": "code",
   "execution_count": 8,
   "id": "223543cf-bdbd-4b58-8219-6baa917dfcbc",
   "metadata": {},
   "outputs": [
    {
     "name": "stdout",
     "output_type": "stream",
     "text": [
      "Num1= 10\n",
      "Num2= 30\n",
      "Add= 40\n"
     ]
    }
   ],
   "source": [
    "Num1=int(10)\n",
    "print(\"Num1=\",Num1)\n",
    "Num2=int(30)\n",
    "print(\"Num2=\",Num2)\n",
    "print(\"Add=\",Num1+Num2)"
   ]
  },
  {
   "cell_type": "code",
   "execution_count": 52,
   "id": "d57bc0a5-d157-4115-9c23-6d727fecbf78",
   "metadata": {},
   "outputs": [
    {
     "name": "stdin",
     "output_type": "stream",
     "text": [
      "Enter the BMI Index: 34\n"
     ]
    },
    {
     "name": "stdout",
     "output_type": "stream",
     "text": [
      "Very Over weight/Obese\n"
     ]
    }
   ],
   "source": [
    "bmi=float(input(\"Enter the BMI Index:\"))\n",
    "if(bmi<=18.5):\n",
    "    print(\"Under weight\")\n",
    "elif(bmi<=24.9):\n",
    "    print(\"Normal weight\")\n",
    "elif(bmi<=29.9):\n",
    "    print(\"Over weight\")\n",
    "else:\n",
    "    print(\"Very Over weight/Obese\")"
   ]
  },
  {
   "cell_type": "code",
   "execution_count": null,
   "id": "36d67e65-04a2-438c-b5c2-dae0cd52ce76",
   "metadata": {},
   "outputs": [],
   "source": []
  }
 ],
 "metadata": {
  "kernelspec": {
   "display_name": "Python 3 (ipykernel)",
   "language": "python",
   "name": "python3"
  },
  "language_info": {
   "codemirror_mode": {
    "name": "ipython",
    "version": 3
   },
   "file_extension": ".py",
   "mimetype": "text/x-python",
   "name": "python",
   "nbconvert_exporter": "python",
   "pygments_lexer": "ipython3",
   "version": "3.12.4"
  }
 },
 "nbformat": 4,
 "nbformat_minor": 5
}
