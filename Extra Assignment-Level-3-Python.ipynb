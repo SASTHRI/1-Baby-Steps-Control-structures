{
 "cells": [
  {
   "cell_type": "code",
   "execution_count": 5,
   "id": "a2bc5766-c1d8-4885-852c-46f63d613d2e",
   "metadata": {},
   "outputs": [
    {
     "name": "stdin",
     "output_type": "stream",
     "text": [
      "Value: 10\n"
     ]
    },
    {
     "name": "stdout",
     "output_type": "stream",
     "text": [
      "Correct\n"
     ]
    }
   ],
   "source": [
    "value=int(input(\"Value:\"))\n",
    "if(value==10):\n",
    "    print(\"Correct\")"
   ]
  },
  {
   "cell_type": "code",
   "execution_count": 17,
   "id": "ae8a0479-a7c8-4a4c-95c9-dd7f16d4160a",
   "metadata": {},
   "outputs": [
    {
     "name": "stdin",
     "output_type": "stream",
     "text": [
      "Enter the password: HOPE@123\n"
     ]
    },
    {
     "name": "stdout",
     "output_type": "stream",
     "text": [
      "Your password is correct\n"
     ]
    }
   ],
   "source": [
    "password=input(\"Enter the password:\")\n",
    "if(password or HOPE@123):\n",
    "    print(\"Your password is correct\")\n",
    "else:\n",
    "    print(\"You entered password is incorrect\")"
   ]
  },
  {
   "cell_type": "code",
   "execution_count": 19,
   "id": "f49d6180-f0b4-4abf-b43d-58c8d35f6e39",
   "metadata": {},
   "outputs": [
    {
     "name": "stdin",
     "output_type": "stream",
     "text": [
      "Enter the age 35\n"
     ]
    },
    {
     "name": "stdout",
     "output_type": "stream",
     "text": [
      "Adult\n"
     ]
    }
   ],
   "source": [
    "age=int(input(\"Enter the age\"))\n",
    "if(age<18):\n",
    "    print(\"kids\")\n",
    "elif(age<=35):\n",
    "    print(\"Adult\")\n",
    "elif(age<=59):\n",
    "    print(\"citizen\")\n",
    "else:\n",
    "    print(\"senior citizen\")   "
   ]
  },
  {
   "cell_type": "code",
   "execution_count": 25,
   "id": "7a5d0ad3-c836-4cad-84ce-87d9b1445ed2",
   "metadata": {},
   "outputs": [
    {
     "name": "stdin",
     "output_type": "stream",
     "text": [
      "Enter any number: -1\n"
     ]
    },
    {
     "name": "stdout",
     "output_type": "stream",
     "text": [
      "No is negative\n"
     ]
    }
   ],
   "source": [
    "num=int(input(\"Enter any number:\"))\n",
    "if(num>0):\n",
    "    print(\"No is positive\")\n",
    "else:\n",
    "    print(\"No is negative\")          "
   ]
  },
  {
   "cell_type": "code",
   "execution_count": 41,
   "id": "1edb896a-80d4-4a3f-be7e-2d343a8541c0",
   "metadata": {},
   "outputs": [
    {
     "name": "stdin",
     "output_type": "stream",
     "text": [
      "Enter a number to check 22\n"
     ]
    },
    {
     "name": "stdout",
     "output_type": "stream",
     "text": [
      "No is not divisiable by 5\n"
     ]
    }
   ],
   "source": [
    "num=int(input(\"Enter a number to check\"))\n",
    "if(num%5==0):\n",
    "    print(\"No is divisible by 5\")\n",
    "else:\n",
    "    print(\"No is not divisiable by 5\")"
   ]
  },
  {
   "cell_type": "code",
   "execution_count": null,
   "id": "f495f9d7-e363-4560-82bc-b496c9ceabcf",
   "metadata": {},
   "outputs": [],
   "source": []
  }
 ],
 "metadata": {
  "kernelspec": {
   "display_name": "Python 3 (ipykernel)",
   "language": "python",
   "name": "python3"
  },
  "language_info": {
   "codemirror_mode": {
    "name": "ipython",
    "version": 3
   },
   "file_extension": ".py",
   "mimetype": "text/x-python",
   "name": "python",
   "nbconvert_exporter": "python",
   "pygments_lexer": "ipython3",
   "version": "3.12.4"
  }
 },
 "nbformat": 4,
 "nbformat_minor": 5
}
