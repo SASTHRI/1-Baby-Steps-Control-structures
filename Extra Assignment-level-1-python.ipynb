{
 "cells": [
  {
   "cell_type": "code",
   "execution_count": 2,
   "id": "788ff78a-02a9-4a3b-879a-4dc4c46249fc",
   "metadata": {},
   "outputs": [
    {
     "name": "stdout",
     "output_type": "stream",
     "text": [
      "HOPE AI\n"
     ]
    }
   ],
   "source": [
    "print(\"HOPE AI\")"
   ]
  },
  {
   "cell_type": "code",
   "execution_count": 4,
   "id": "e125d1ac-9652-4f16-926f-bc4884fc47e3",
   "metadata": {},
   "outputs": [
    {
     "name": "stdin",
     "output_type": "stream",
     "text": [
      "Enter your institute name? : HOPE AI\n"
     ]
    },
    {
     "name": "stdout",
     "output_type": "stream",
     "text": [
      "HOPE AI\n"
     ]
    }
   ],
   "source": [
    "print(input(\"Enter your institute name? :\"))"
   ]
  },
  {
   "cell_type": "code",
   "execution_count": 16,
   "id": "850d942b-5e4e-4c15-b8a6-b434c3eb5fc6",
   "metadata": {},
   "outputs": [
    {
     "name": "stdin",
     "output_type": "stream",
     "text": [
      "Enter your name: Raj\n",
      "Enter your age: 15\n",
      "Enter your school name: Guru school\n",
      "Enter your drgree: BE CSE\n"
     ]
    },
    {
     "data": {
      "text/plain": [
       "'BE CSE'"
      ]
     },
     "execution_count": 16,
     "metadata": {},
     "output_type": "execute_result"
    }
   ],
   "source": [
    "input(\"Enter your name:\")\n",
    "input(\"Enter your age:\")\n",
    "input(\"Enter your school name:\")\n",
    "input(\"Enter your drgree:\")"
   ]
  },
  {
   "cell_type": "code",
   "execution_count": 26,
   "id": "0ad8e97d-0280-4d7b-bfde-26769aa821c3",
   "metadata": {},
   "outputs": [
    {
     "name": "stdout",
     "output_type": "stream",
     "text": [
      "a= 43\n",
      "b= 34\n",
      "add= 77\n"
     ]
    }
   ],
   "source": [
    "a=43\n",
    "b=34\n",
    "print(\"a=\",a)\n",
    "print(\"b=\",b"
   ]
  },
  {
   "cell_type": "code",
   "execution_count": 36,
   "id": "68260247-6259-4b12-8cdb-5963dc791668",
   "metadata": {},
   "outputs": [
    {
     "name": "stdout",
     "output_type": "stream",
     "text": [
      "a= 43\n",
      "b= 34\n",
      "sub= 9\n"
     ]
    }
   ],
   "source": [
    "a=43\n",
    "b=34\n",
    "print(\"a=\",a)\n",
    "print(\"b=\",b)\n",
    "print(\"sub=\",a-b)"
   ]
  },
  {
   "cell_type": "code",
   "execution_count": 38,
   "id": "f2eb8a17-a839-401d-a9ed-6abb59fc2ee0",
   "metadata": {},
   "outputs": [
    {
     "name": "stdout",
     "output_type": "stream",
     "text": [
      "a= 63\n",
      "b= 97\n",
      "mul= 6111\n"
     ]
    }
   ],
   "source": [
    "a=63\n",
    "b=97\n",
    "print(\"a=\",a)\n",
    "print(\"b=\",b)\n",
    "print(\"mul=\",a*b)"
   ]
  },
  {
   "cell_type": "code",
   "execution_count": 40,
   "id": "018bed3b-1230-4d9c-ab73-6de536baea57",
   "metadata": {},
   "outputs": [
    {
     "name": "stdout",
     "output_type": "stream",
     "text": [
      "a= 76\n",
      "b= 31\n",
      "div= 2.4516129032258065\n"
     ]
    }
   ],
   "source": [
    "a=76\n",
    "b=31\n",
    "print(\"a=\",a)\n",
    "print(\"b=\",b)\n",
    "print(\"div=\",a/b)"
   ]
  },
  {
   "cell_type": "code",
   "execution_count": 55,
   "id": "d483dfbe-e3ba-4143-bd59-4f79e25f584f",
   "metadata": {},
   "outputs": [
    {
     "name": "stdout",
     "output_type": "stream",
     "text": [
      "a= 76\n",
      "b= 31\n",
      "Floor div= 2\n"
     ]
    }
   ],
   "source": [
    "a=76\n",
    "b=31\n",
    "print(\"a=\",a)\n",
    "print(\"b=\",b)\n",
    "print(\"Floor div=\",a//b)"
   ]
  },
  {
   "cell_type": "code",
   "execution_count": 57,
   "id": "db703c1d-c292-4eb9-a68d-d39ec45335b8",
   "metadata": {},
   "outputs": [
    {
     "name": "stdout",
     "output_type": "stream",
     "text": [
      "a= 76\n",
      "b= 31\n",
      "Modulo= 14\n"
     ]
    }
   ],
   "source": [
    "a=76\n",
    "b=31\n",
    "print(\"a=\",a)\n",
    "print(\"b=\",b)\n",
    "print(\"Modulo=\",a%b)"
   ]
  },
  {
   "cell_type": "code",
   "execution_count": 1,
   "id": "f0630ef1-e841-432c-b276-d0366bc4fc98",
   "metadata": {},
   "outputs": [
    {
     "name": "stdout",
     "output_type": "stream",
     "text": [
      "a= 4\n",
      "b= 4\n",
      "Power= 256\n"
     ]
    }
   ],
   "source": [
    "a=4\n",
    "b=4\n",
    "print(\"a=\",a)\n",
    "print(\"b=\",b)\n",
    "print(\"Power=\",a**b)"
   ]
  },
  {
   "cell_type": "code",
   "execution_count": null,
   "id": "1ed2312c-4dc9-47a5-9616-bb776f05b875",
   "metadata": {},
   "outputs": [],
   "source": []
  }
 ],
 "metadata": {
  "kernelspec": {
   "display_name": "Python 3 (ipykernel)",
   "language": "python",
   "name": "python3"
  },
  "language_info": {
   "codemirror_mode": {
    "name": "ipython",
    "version": 3
   },
   "file_extension": ".py",
   "mimetype": "text/x-python",
   "name": "python",
   "nbconvert_exporter": "python",
   "pygments_lexer": "ipython3",
   "version": "3.12.4"
  }
 },
 "nbformat": 4,
 "nbformat_minor": 5
}
